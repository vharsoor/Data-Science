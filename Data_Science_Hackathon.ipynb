{
  "cells": [
    {
      "cell_type": "markdown",
      "metadata": {
        "id": "view-in-github",
        "colab_type": "text"
      },
      "source": [
        "<a href=\"https://colab.research.google.com/github/vharsoor/Data-Science/blob/main/Data_Science_Hackathon.ipynb\" target=\"_parent\"><img src=\"https://colab.research.google.com/assets/colab-badge.svg\" alt=\"Open In Colab\"/></a>"
      ]
    },
    {
      "cell_type": "code",
      "execution_count": 24,
      "metadata": {
        "id": "BR3xaU1-fXfs"
      },
      "outputs": [],
      "source": [
        "import numpy as np\n",
        "import random\n",
        "import pandas as pd"
      ]
    },
    {
      "cell_type": "code",
      "execution_count": 25,
      "metadata": {
        "id": "WvtkfL3kfXfx"
      },
      "outputs": [],
      "source": [
        "#vectors\n",
        "rooms_nos = [5,7,10]\n",
        "roads = [\"good\",\"bad\",\"moderate\"]\n",
        "avg_price=[\"500000\",\"1000000\",\"2000000\"]\n",
        "decision= [\"yes\",\"no\"]"
      ]
    },
    {
      "cell_type": "code",
      "execution_count": 26,
      "metadata": {
        "id": "24niFWTNfXfy"
      },
      "outputs": [],
      "source": [
        "loci_vec=list(range(5000))\n"
      ]
    },
    {
      "cell_type": "code",
      "execution_count": 27,
      "metadata": {
        "id": "5TgFgmfFfXfy"
      },
      "outputs": [],
      "source": [
        "rooms_vec=[]\n",
        "j=0;\n",
        "\n",
        "for i in range(5000):\n",
        "    j=random.randint(0,1)\n",
        "    if(j==0):\n",
        "        rooms_vec.append(random.sample(rooms_nos,1))\n",
        "    else:\n",
        "        rooms_vec.append([7])"
      ]
    },
    {
      "cell_type": "code",
      "execution_count": 28,
      "metadata": {
        "id": "2Ea0EHDMfXfz"
      },
      "outputs": [],
      "source": [
        "water_vec=[]\n",
        "j=0;\n",
        "for i in range(5000):\n",
        "    j=random.randint(0,1)\n",
        "    if(j==0):\n",
        "        water_vec.append(random.randint(0,1))\n",
        "    else:\n",
        "        water_vec.append(1)\n"
      ]
    },
    {
      "cell_type": "code",
      "execution_count": 29,
      "metadata": {
        "id": "63dUl4lnfXfz"
      },
      "outputs": [],
      "source": [
        "HPI_vec=[]\n",
        "j=0;\n",
        "for i in range(5000):\n",
        "    j=random.randint(0,1)\n",
        "    if(j==0):\n",
        "        HPI_vec.append(random.randint(1,10))\n",
        "    else:\n",
        "        HPI_vec.append(3)"
      ]
    },
    {
      "cell_type": "code",
      "execution_count": 30,
      "metadata": {
        "id": "bC7CWeKYfXf0"
      },
      "outputs": [],
      "source": [
        "built_house_vec=[]\n",
        "j=0;\n",
        "for i in range(5000):\n",
        "    j=random.randint(0,1)\n",
        "    if(j==0):\n",
        "        built_house_vec.append(random.randint(1990,2010))\n",
        "    else:\n",
        "        built_house_vec.append(2006)"
      ]
    },
    {
      "cell_type": "code",
      "execution_count": 31,
      "metadata": {
        "id": "xjohtZ8EfXf0"
      },
      "outputs": [],
      "source": [
        "edu_vec=[]\n",
        "j=0;\n",
        "for i in range(5000):\n",
        "    j=random.randint(0,1)\n",
        "    if(j==0):\n",
        "        edu_vec.append(random.randint(0,1))\n",
        "    else:\n",
        "        edu_vec.append(1)"
      ]
    },
    {
      "cell_type": "code",
      "execution_count": 32,
      "metadata": {
        "id": "jjBz2WltfXf1"
      },
      "outputs": [],
      "source": [
        "crime_vec=[]\n",
        "j=0;\n",
        "for i in range(5000):\n",
        "    j=random.randint(0,1)\n",
        "    if(j==0):\n",
        "        crime_vec.append(random.randint(1,10))\n",
        "    else:\n",
        "        crime_vec.append(3)"
      ]
    },
    {
      "cell_type": "code",
      "execution_count": 33,
      "metadata": {
        "id": "iyFvXK4MfXf1"
      },
      "outputs": [],
      "source": [
        "MC_families_vec=[]\n",
        "j=0;\n",
        "for i in range(5000):\n",
        "    j=random.randint(0,1)\n",
        "    if(j==0):\n",
        "        MC_families_vec.append(random.randint(1,100))\n",
        "    else:\n",
        "        MC_families_vec.append(80)"
      ]
    },
    {
      "cell_type": "code",
      "execution_count": 34,
      "metadata": {
        "id": "okCndLnYfXf2"
      },
      "outputs": [],
      "source": [
        "roads_vec=[]\n",
        "j=0;\n",
        "for i in range(5000):\n",
        "    j=random.randint(0,1)\n",
        "    if(j==0):\n",
        "        roads_vec.append(random.sample(roads,1))\n",
        "    else:\n",
        "        roads_vec.append([\"moderate\"])"
      ]
    },
    {
      "cell_type": "code",
      "execution_count": 35,
      "metadata": {
        "id": "qGtrJeIlfXf2"
      },
      "outputs": [],
      "source": [
        "decision_vec=[]\n",
        "j=0;\n",
        "for i in range(5000):\n",
        "    j=random.randint(0,1)\n",
        "    if(j==0):\n",
        "        decision_vec.append(random.sample(decision,1))\n",
        "    else:\n",
        "        decision_vec.append([\"yes\"])"
      ]
    },
    {
      "cell_type": "code",
      "execution_count": 36,
      "metadata": {
        "id": "1hRXUSPlfXf2"
      },
      "outputs": [],
      "source": [
        "DataSet = pd.DataFrame()\n",
        "DataSet[\"no_of_rooms\"] = rooms_vec\n",
        "DataSet[\"water_source\"] = water_vec\n",
        "DataSet[\"HPI\"] = HPI_vec\n",
        "DataSet[\"Built_house\"] = built_house_vec\n",
        "DataSet[\"education\"] = edu_vec\n",
        "DataSet[\"crime_rate\"] = crime_vec\n",
        "DataSet[\"Middle_class_families\"] = MC_families_vec\n",
        "DataSet[\"Roads\"] = roads_vec\n",
        "DataSet[\"Decision_buy\"] = decision_vec"
      ]
    },
    {
      "cell_type": "code",
      "execution_count": 37,
      "metadata": {
        "id": "h1bLsUdGfXf3",
        "outputId": "dacf8fc1-42e9-43d9-c251-9a0bad4cc364",
        "colab": {
          "base_uri": "https://localhost:8080/"
        }
      },
      "outputs": [
        {
          "output_type": "execute_result",
          "data": {
            "text/plain": [
              "int"
            ]
          },
          "metadata": {},
          "execution_count": 37
        }
      ],
      "source": [
        "avg_vec=[]\n",
        "j=0;\n",
        "for i in range(5000):\n",
        "    j=random.randint(0,1)\n",
        "    if(j==0):\n",
        "        avg_vec.append(int(random.sample(avg_price,1)[0]))\n",
        "    else:\n",
        "        if(rooms_vec[i]==[5]):\n",
        "            avg_vec.append(500000)\n",
        "        elif (rooms_vec[i]==[7]):\n",
        "            avg_vec.append(1000000)\n",
        "        else:\n",
        "            avg_vec.append(2000000)\n",
        "DataSet[\"average_price\"]=avg_vec\n",
        "type((avg_vec[0]))"
      ]
    },
    {
      "cell_type": "code",
      "execution_count": 38,
      "metadata": {
        "id": "Ik9AUNzkfXf4",
        "outputId": "46951fe7-ab24-4e94-a8c9-66070cfae637",
        "colab": {
          "base_uri": "https://localhost:8080/"
        }
      },
      "outputs": [
        {
          "output_type": "stream",
          "name": "stdout",
          "text": [
            "Sample Prediction output:  [['no'], ['no'], ['no'], ['no'], ['yes'], ['no'], ['no'], ['no'], ['no'], ['no'], ['no'], ['no'], ['yes'], ['no'], ['no'], ['yes'], ['no'], ['no'], ['no'], ['no']]\n"
          ]
        }
      ],
      "source": [
        "selling_vec=[]\n",
        "j=0;\n",
        "for i in range(5000):\n",
        "    j=random.randint(0,1)\n",
        "    cost=(water_vec[i])+(edu_vec[i])+((HPI_vec[i] - 5)*(-1))+(built_house_vec[i]-2000)+((crime_vec[i]-5)*(-1))\n",
        "    selling_vec.append((cost*10000)+(avg_vec[i]))\n",
        "#print(selling_vec)\n",
        "\n",
        "prediction_vec=[]\n",
        "for i in range(5000):\n",
        "    if(selling_vec[i]<int(avg_vec[i])):\n",
        "        prediction_vec.append([\"yes\"])\n",
        "    else:\n",
        "        prediction_vec.append([\"no\"])\n",
        "\n",
        "#print(prediction_vec)\n",
        "print(\"Sample Prediction output: \",prediction_vec[:20])\n",
        "\n"
      ]
    },
    {
      "cell_type": "code",
      "execution_count": 39,
      "metadata": {
        "id": "PWQs1AFNfXf4"
      },
      "outputs": [],
      "source": [
        "DataSet[\"selling_price\"]=selling_vec\n",
        "DataSet[\"prediction_buy\"]=prediction_vec\n"
      ]
    },
    {
      "cell_type": "code",
      "execution_count": 40,
      "metadata": {
        "id": "UXI7wkFPfXf4",
        "outputId": "52b4d108-8c7c-4cdb-b0ae-500af63bff6e",
        "colab": {
          "base_uri": "https://localhost:8080/"
        }
      },
      "outputs": [
        {
          "output_type": "stream",
          "name": "stdout",
          "text": [
            "Sample DataSet:   no_of_rooms  water_source  HPI  Built_house  education  crime_rate  \\\n",
            "0         [7]             0    4         2008          1           9   \n",
            "1         [7]             0    8         2010          1           3   \n",
            "2         [7]             1    8         2006          1           6   \n",
            "3        [10]             1    3         2006          1           3   \n",
            "4         [7]             1    3         1993          0           3   \n",
            "\n",
            "   Middle_class_families       Roads Decision_buy  average_price  \\\n",
            "0                     80  [moderate]        [yes]        2000000   \n",
            "1                     80  [moderate]        [yes]        1000000   \n",
            "2                     80      [good]        [yes]        1000000   \n",
            "3                     80  [moderate]        [yes]         500000   \n",
            "4                     80  [moderate]        [yes]        1000000   \n",
            "\n",
            "   selling_price prediction_buy  \n",
            "0        2060000           [no]  \n",
            "1        1100000           [no]  \n",
            "2        1040000           [no]  \n",
            "3         620000           [no]  \n",
            "4         980000          [yes]  \n"
          ]
        }
      ],
      "source": [
        "#print(DataSet)\n",
        "print(\"Sample DataSet:\",DataSet[:5])"
      ]
    },
    {
      "cell_type": "code",
      "execution_count": 41,
      "metadata": {
        "id": "whTOWKZQfXf4",
        "outputId": "879ff772-8e88-4105-9f6c-8b4f02cdfe41",
        "colab": {
          "base_uri": "https://localhost:8080/"
        }
      },
      "outputs": [
        {
          "output_type": "stream",
          "name": "stdout",
          "text": [
            "33.98\n"
          ]
        }
      ],
      "source": [
        "j=0\n",
        "for i in range(5000):\n",
        "    if(decision_vec[i][0]==prediction_vec[i][0]):\n",
        "        j=j+1\n",
        "\n",
        "accuracy=j/5000\n",
        "print(accuracy*100)"
      ]
    },
    {
      "cell_type": "code",
      "execution_count": 41,
      "metadata": {
        "id": "2aKgleM7fXf5"
      },
      "outputs": [],
      "source": []
    }
  ],
  "metadata": {
    "kernelspec": {
      "display_name": "Python 3",
      "language": "python",
      "name": "python3"
    },
    "language_info": {
      "codemirror_mode": {
        "name": "ipython",
        "version": 3
      },
      "file_extension": ".py",
      "mimetype": "text/x-python",
      "name": "python",
      "nbconvert_exporter": "python",
      "pygments_lexer": "ipython3",
      "version": "3.7.1"
    },
    "colab": {
      "provenance": [],
      "include_colab_link": true
    }
  },
  "nbformat": 4,
  "nbformat_minor": 0
}