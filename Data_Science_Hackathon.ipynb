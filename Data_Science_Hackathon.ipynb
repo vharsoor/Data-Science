{
  "cells": [
    {
      "cell_type": "markdown",
      "metadata": {
        "id": "view-in-github",
        "colab_type": "text"
      },
      "source": [
        "<a href=\"https://colab.research.google.com/github/vharsoor/Data-Science/blob/main/Data_Science_Hackathon.ipynb\" target=\"_parent\"><img src=\"https://colab.research.google.com/assets/colab-badge.svg\" alt=\"Open In Colab\"/></a>"
      ]
    },
    {
      "cell_type": "code",
      "execution_count": null,
      "metadata": {
        "id": "BR3xaU1-fXfs"
      },
      "outputs": [],
      "source": [
        "import numpy as np\n",
        "import random\n",
        "import pandas as pd"
      ]
    },
    {
      "cell_type": "code",
      "execution_count": null,
      "metadata": {
        "id": "WvtkfL3kfXfx"
      },
      "outputs": [],
      "source": [
        "#vectors\n",
        "rooms_nos = [5,7,10]\n",
        "roads = [\"good\",\"bad\",\"moderate\"]\n",
        "avg_price=[\"500000\",\"1000000\",\"2000000\"]\n",
        "decision= [\"yes\",\"no\"]"
      ]
    },
    {
      "cell_type": "code",
      "execution_count": null,
      "metadata": {
        "id": "24niFWTNfXfy"
      },
      "outputs": [],
      "source": [
        "loci_vec=list(range(5000))\n"
      ]
    },
    {
      "cell_type": "code",
      "execution_count": null,
      "metadata": {
        "id": "5TgFgmfFfXfy"
      },
      "outputs": [],
      "source": [
        "rooms_vec=[]\n",
        "j=0;\n",
        "\n",
        "for i in range(5000):\n",
        "    j=random.randint(0,1)\n",
        "    if(j==0):\n",
        "        rooms_vec.append(random.sample(rooms_nos,1))\n",
        "    else:\n",
        "        rooms_vec.append([7])"
      ]
    },
    {
      "cell_type": "code",
      "execution_count": null,
      "metadata": {
        "id": "2Ea0EHDMfXfz"
      },
      "outputs": [],
      "source": [
        "water_vec=[]\n",
        "j=0;\n",
        "for i in range(5000):\n",
        "    j=random.randint(0,1)\n",
        "    if(j==0):\n",
        "        water_vec.append(random.randint(0,1))\n",
        "    else:\n",
        "        water_vec.append(1)\n"
      ]
    },
    {
      "cell_type": "code",
      "execution_count": null,
      "metadata": {
        "id": "63dUl4lnfXfz"
      },
      "outputs": [],
      "source": [
        "HPI_vec=[]\n",
        "j=0;\n",
        "for i in range(5000):\n",
        "    j=random.randint(0,1)\n",
        "    if(j==0):\n",
        "        HPI_vec.append(random.randint(1,10))\n",
        "    else:\n",
        "        HPI_vec.append(3)"
      ]
    },
    {
      "cell_type": "code",
      "execution_count": null,
      "metadata": {
        "id": "bC7CWeKYfXf0"
      },
      "outputs": [],
      "source": [
        "built_house_vec=[]\n",
        "j=0;\n",
        "for i in range(5000):\n",
        "    j=random.randint(0,1)\n",
        "    if(j==0):\n",
        "        built_house_vec.append(random.randint(1990,2010))\n",
        "    else:\n",
        "        built_house_vec.append(2006)"
      ]
    },
    {
      "cell_type": "code",
      "execution_count": null,
      "metadata": {
        "id": "xjohtZ8EfXf0"
      },
      "outputs": [],
      "source": [
        "edu_vec=[]\n",
        "j=0;\n",
        "for i in range(5000):\n",
        "    j=random.randint(0,1)\n",
        "    if(j==0):\n",
        "        edu_vec.append(random.randint(0,1))\n",
        "    else:\n",
        "        edu_vec.append(1)"
      ]
    },
    {
      "cell_type": "code",
      "execution_count": null,
      "metadata": {
        "id": "jjBz2WltfXf1"
      },
      "outputs": [],
      "source": [
        "crime_vec=[]\n",
        "j=0;\n",
        "for i in range(5000):\n",
        "    j=random.randint(0,1)\n",
        "    if(j==0):\n",
        "        crime_vec.append(random.randint(1,10))\n",
        "    else:\n",
        "        crime_vec.append(3)"
      ]
    },
    {
      "cell_type": "code",
      "execution_count": null,
      "metadata": {
        "id": "iyFvXK4MfXf1"
      },
      "outputs": [],
      "source": [
        "MC_families_vec=[]\n",
        "j=0;\n",
        "for i in range(5000):\n",
        "    j=random.randint(0,1)\n",
        "    if(j==0):\n",
        "        MC_families_vec.append(random.randint(1,100))\n",
        "    else:\n",
        "        MC_families_vec.append(80)"
      ]
    },
    {
      "cell_type": "code",
      "execution_count": null,
      "metadata": {
        "id": "okCndLnYfXf2"
      },
      "outputs": [],
      "source": [
        "roads_vec=[]\n",
        "j=0;\n",
        "for i in range(5000):\n",
        "    j=random.randint(0,1)\n",
        "    if(j==0):\n",
        "        roads_vec.append(random.sample(roads,1))\n",
        "    else:\n",
        "        roads_vec.append([\"moderate\"])"
      ]
    },
    {
      "cell_type": "code",
      "execution_count": null,
      "metadata": {
        "id": "qGtrJeIlfXf2"
      },
      "outputs": [],
      "source": [
        "decision_vec=[]\n",
        "j=0;\n",
        "for i in range(5000):\n",
        "    j=random.randint(0,1)\n",
        "    if(j==0):\n",
        "        decision_vec.append(random.sample(decision,1))\n",
        "    else:\n",
        "        decision_vec.append([\"yes\"])"
      ]
    },
    {
      "cell_type": "code",
      "execution_count": null,
      "metadata": {
        "id": "1hRXUSPlfXf2"
      },
      "outputs": [],
      "source": [
        "DataSet = pd.DataFrame()\n",
        "DataSet[\"no_of_rooms\"] = rooms_vec\n",
        "DataSet[\"water_source\"] = water_vec\n",
        "DataSet[\"HPI\"] = HPI_vec\n",
        "DataSet[\"Built_house\"] = built_house_vec\n",
        "DataSet[\"education\"] = edu_vec\n",
        "DataSet[\"crime_rate\"] = crime_vec\n",
        "DataSet[\"Middle_class_families\"] = MC_families_vec\n",
        "DataSet[\"Roads\"] = roads_vec\n",
        "DataSet[\"Decision_buy\"] = decision_vec"
      ]
    },
    {
      "cell_type": "code",
      "execution_count": null,
      "metadata": {
        "id": "h1bLsUdGfXf3",
        "outputId": "49b69b73-5c24-4c7d-d63c-004d7c40ad41"
      },
      "outputs": [
        {
          "data": {
            "text/plain": [
              "int"
            ]
          },
          "execution_count": 14,
          "metadata": {},
          "output_type": "execute_result"
        }
      ],
      "source": [
        "avg_vec=[]\n",
        "j=0;\n",
        "for i in range(5000):\n",
        "    j=random.randint(0,1)\n",
        "    if(j==0):\n",
        "        avg_vec.append(int(random.sample(avg_price,1)[0]))\n",
        "    else:\n",
        "        if(rooms_vec[i]==[5]):\n",
        "            avg_vec.append(500000)\n",
        "        elif (rooms_vec[i]==[7]):\n",
        "            avg_vec.append(1000000)\n",
        "        else:\n",
        "            avg_vec.append(2000000)\n",
        "DataSet[\"average_price\"]=avg_vec\n",
        "type((avg_vec[0]))"
      ]
    },
    {
      "cell_type": "code",
      "execution_count": null,
      "metadata": {
        "id": "Ik9AUNzkfXf4",
        "outputId": "307ada01-a181-45be-8812-2e1a3101d0a4"
      },
      "outputs": [
        {
          "name": "stdout",
          "output_type": "stream",
          "text": [
            "[['yes'], ['no'], ['yes'], ['no'], ['no'], ['no'], ['no'], ['no'], ['no'], ['no'], ['no'], ['no'], ['no'], ['no'], ['no'], ['no'], ['no'], ['yes'], ['no'], ['no'], ['yes'], ['yes'], ['no'], ['no'], ['no'], ['no'], ['no'], ['no'], ['no'], ['no'], ['no'], ['yes'], ['no'], ['no'], ['no'], ['no'], ['no'], ['yes'], ['yes'], ['no'], ['no'], ['no'], ['yes'], ['no'], ['no'], ['no'], ['no'], ['no'], ['no'], ['yes'], ['no'], ['no'], ['yes'], ['no'], ['no'], ['no'], ['no'], ['no'], ['yes'], ['no'], ['no'], ['no'], ['yes'], ['yes'], ['no'], ['no'], ['yes'], ['no'], ['no'], ['no'], ['yes'], ['no'], ['no'], ['no'], ['no'], ['no'], ['no'], ['no'], ['yes'], ['no'], ['yes'], ['no'], ['no'], ['no'], ['no'], ['no'], ['yes'], ['no'], ['no'], ['no'], ['no'], ['yes'], ['no'], ['no'], ['yes'], ['no'], ['yes'], ['yes'], ['no'], ['no'], ['no'], ['no'], ['no'], ['no'], ['no'], ['no'], ['no'], ['no'], ['no'], ['no'], ['no'], ['yes'], ['no'], ['no'], ['no'], ['no'], ['no'], ['no'], ['yes'], ['no'], ['no'], ['no'], ['no'], ['no'], ['yes'], ['no'], ['no'], ['no'], ['no'], ['no'], ['no'], ['no'], ['no'], ['yes'], ['yes'], ['no'], ['no'], ['no'], ['no'], ['no'], ['no'], ['yes'], ['yes'], ['yes'], ['no'], ['no'], ['yes'], ['no'], ['no'], ['no'], ['no'], ['yes'], ['no'], ['no'], ['no'], ['no'], ['yes'], ['no'], ['yes'], ['no'], ['yes'], ['no'], ['no'], ['no'], ['no'], ['yes'], ['no'], ['no'], ['no'], ['yes'], ['no'], ['yes'], ['no'], ['no'], ['no'], ['no'], ['no'], ['yes'], ['no'], ['no'], ['no'], ['no'], ['no'], ['yes'], ['yes'], ['no'], ['no'], ['no'], ['yes'], ['no'], ['yes'], ['no'], ['no'], ['no'], ['no'], ['yes'], ['no'], ['no'], ['no'], ['no'], ['no'], ['yes'], ['no'], ['no'], ['yes'], ['no'], ['no'], ['no'], ['no'], ['no'], ['no'], ['no'], ['no'], ['no'], ['no'], ['yes'], ['no'], ['no'], ['no'], ['no'], ['no'], ['no'], ['no'], ['no'], ['yes'], ['no'], ['yes'], ['no'], ['yes'], ['no'], ['no'], ['no'], ['no'], ['no'], ['yes'], ['yes'], ['yes'], ['no'], ['no'], ['yes'], ['no'], ['no'], ['yes'], ['no'], ['no'], ['yes'], ['no'], ['no'], ['no'], ['no'], ['no'], ['no'], ['no'], ['no'], ['yes'], ['no'], ['no'], ['no'], ['no'], ['no'], ['no'], ['no'], ['no'], ['no'], ['no'], ['no'], ['no'], ['no'], ['no'], ['no'], ['no'], ['yes'], ['no'], ['no'], ['no'], ['no'], ['yes'], ['no'], ['no'], ['yes'], ['no'], ['no'], ['yes'], ['no'], ['no'], ['no'], ['no'], ['no'], ['yes'], ['no'], ['no'], ['no'], ['no'], ['no'], ['no'], ['no'], ['no'], ['no'], ['no'], ['no'], ['yes'], ['no'], ['no'], ['no'], ['no'], ['no'], ['no'], ['no'], ['no'], ['yes'], ['yes'], ['no'], ['no'], ['no'], ['yes'], ['no'], ['no'], ['no'], ['no'], ['no'], ['no'], ['no'], ['no'], ['no'], ['no'], ['no'], ['no'], ['yes'], ['yes'], ['no'], ['no'], ['no'], ['no'], ['no'], ['no'], ['yes'], ['no'], ['no'], ['no'], ['yes'], ['no'], ['no'], ['no'], ['no'], ['no'], ['no'], ['no'], ['no'], ['no'], ['no'], ['no'], ['no'], ['no'], ['no'], ['yes'], ['no'], ['no'], ['no'], ['no'], ['yes'], ['no'], ['no'], ['yes'], ['no'], ['yes'], ['no'], ['no'], ['no'], ['no'], ['no'], ['no'], ['no'], ['no'], ['no'], ['no'], ['no'], ['no'], ['no'], ['no'], ['no'], ['no'], ['no'], ['no'], ['no'], ['yes'], ['yes'], ['no'], ['yes'], ['no'], ['no'], ['no'], ['no'], ['no'], ['no'], ['no'], ['no'], ['no'], ['no'], ['no'], ['no'], ['no'], ['no'], ['no'], ['no'], ['no'], ['no'], ['no'], ['no'], ['no'], ['no'], ['no'], ['no'], ['no'], ['no'], ['no'], ['no'], ['yes'], ['no'], ['no'], ['no'], ['no'], ['yes'], ['no'], ['no'], ['no'], ['no'], ['yes'], ['no'], ['no'], ['no'], ['no'], ['no'], ['yes'], ['yes'], ['no'], ['no'], ['no'], ['no'], ['yes'], ['no'], ['no'], ['yes'], ['no'], ['no'], ['no'], ['no'], ['no'], ['no'], ['no'], ['yes'], ['no'], ['no'], ['no'], ['no'], ['no'], ['no'], ['yes'], ['no'], ['no'], ['no'], ['no'], ['no'], ['no'], ['no'], ['no'], ['no'], ['no'], ['no'], ['no'], ['yes'], ['no'], ['no'], ['yes'], ['no'], ['no'], ['no'], ['no'], ['yes'], ['no'], ['no'], ['no'], ['no'], ['yes'], ['no'], ['yes'], ['no'], ['no'], ['no'], ['yes'], ['yes'], ['no'], ['no'], ['no'], ['yes'], ['yes'], ['no'], ['no'], ['no'], ['yes'], ['no'], ['no'], ['yes'], ['no'], ['no'], ['no'], ['no'], ['no'], ['yes'], ['no'], ['no'], ['no'], ['no'], ['no'], ['no'], ['no'], ['no'], ['no'], ['no'], ['no'], ['yes'], ['no'], ['no'], ['no'], ['no'], ['no'], ['no'], ['no'], ['no'], ['no'], ['no'], ['no'], ['no'], ['no'], ['no'], ['no'], ['yes'], ['yes'], ['yes'], ['no'], ['yes'], ['no'], ['no'], ['no'], ['no'], ['yes'], ['no'], ['no'], ['no'], ['no'], ['yes'], ['no'], ['no'], ['no'], ['no'], ['no'], ['no'], ['no'], ['no'], ['no'], ['no'], ['no'], ['no'], ['no'], ['no'], ['no'], ['no'], ['no'], ['no'], ['yes'], ['no'], ['no'], ['no'], ['no'], ['no'], ['no'], ['no'], ['no'], ['no'], ['yes'], ['yes'], ['no'], ['no'], ['no'], ['no'], ['no'], ['yes'], ['no'], ['no'], ['no'], ['yes'], ['yes'], ['yes'], ['no'], ['no'], ['no'], ['no'], ['no'], ['no'], ['no'], ['no'], ['no'], ['no'], ['no'], ['no'], ['yes'], ['no'], ['no'], ['yes'], ['yes'], ['no'], ['no'], ['no'], ['no'], ['no'], ['no'], ['no'], ['yes'], ['no'], ['no'], ['no'], ['no'], ['no'], ['no'], ['no'], ['no'], ['no'], ['yes'], ['no'], ['no'], ['no'], ['no'], ['no'], ['yes'], ['yes'], ['no'], ['no'], ['no'], ['no'], ['no'], ['yes'], ['no'], ['no'], ['no'], ['no'], ['no'], ['yes'], ['no'], ['no'], ['yes'], ['no'], ['no'], ['no'], ['yes'], ['yes'], ['no'], ['no'], ['no'], ['no'], ['no'], ['no'], ['no'], ['yes'], ['yes'], ['no'], ['no'], ['no'], ['no'], ['no'], ['no'], ['yes'], ['no'], ['no'], ['no'], ['no'], ['no'], ['no'], ['no'], ['no'], ['no'], ['no'], ['no'], ['no'], ['yes'], ['no'], ['no'], ['no'], ['no'], ['no'], ['no'], ['no'], ['no'], ['yes'], ['no'], ['yes'], ['yes'], ['no'], ['no'], ['yes'], ['yes'], ['no'], ['no'], ['no'], ['yes'], ['no'], ['no'], ['no'], ['yes'], ['no'], ['no'], ['no'], ['no'], ['no'], ['no'], ['no'], ['no'], ['no'], ['no'], ['no'], ['no'], ['no'], ['no'], ['no'], ['no'], ['no'], ['no'], ['no'], ['no'], ['no'], ['yes'], ['no'], ['no'], ['no'], ['no'], ['no'], ['yes'], ['yes'], ['no'], ['no'], ['no'], ['no'], ['no'], ['no'], ['no'], ['no'], ['yes'], ['no'], ['no'], ['no'], ['yes'], ['no'], ['no'], ['no'], ['no'], ['no'], ['no'], ['no'], ['yes'], ['no'], ['no'], ['no'], ['no'], ['no'], ['no'], ['no'], ['no'], ['no'], ['no'], ['yes'], ['no'], ['no'], ['no'], ['no'], ['no'], ['no'], ['no'], ['no'], ['no'], ['no'], ['yes'], ['no'], ['no'], ['no'], ['no'], ['no'], ['no'], ['no'], ['no'], ['no'], ['no'], ['no'], ['yes'], ['no'], ['no'], ['yes'], ['no'], ['no'], ['yes'], ['no'], ['no'], ['yes'], ['no'], ['no'], ['no'], ['no'], ['yes'], ['no'], ['no'], ['no'], ['no'], ['yes'], ['no'], ['no'], ['no'], ['yes'], ['no'], ['yes'], ['no'], ['no'], ['no'], ['no'], ['yes'], ['no'], ['no'], ['no'], ['no'], ['no'], ['no'], ['no'], ['no'], ['no'], ['yes'], ['no'], ['no'], ['no'], ['no'], ['no'], ['yes'], ['no'], ['no'], ['yes'], ['yes'], ['no'], ['yes'], ['no'], ['no'], ['yes'], ['no'], ['no'], ['no'], ['no'], ['no'], ['no'], ['no'], ['no'], ['no'], ['yes'], ['no'], ['yes'], ['no'], ['no'], ['no'], ['no'], ['no'], ['no'], ['no'], ['no'], ['no'], ['no'], ['no'], ['no'], ['yes'], ['no'], ['no'], ['no'], ['no'], ['no'], ['no'], ['no'], ['no'], ['yes'], ['no'], ['no'], ['no'], ['yes'], ['no'], ['no'], ['no'], ['no'], ['no'], ['no'], ['no'], ['no'], ['no'], ['no'], ['yes'], ['no'], ['no'], ['yes'], ['no'], ['no'], ['no'], ['yes'], ['no'], ['no'], ['no'], ['no'], ['no'], ['no'], ['yes'], ['no'], ['no'], ['yes'], ['yes'], ['no'], ['yes'], ['no'], ['no'], ['no'], ['no'], ['yes'], ['no'], ['no'], ['no'], ['yes'], ['no'], ['no'], ['no'], ['no'], ['no'], ['no'], ['yes'], ['no'], ['no'], ['no'], ['no'], ['no'], ['no'], ['no'], ['no'], ['no'], ['no'], ['no'], ['no'], ['yes'], ['yes'], ['no'], ['no'], ['no'], ['no'], ['no'], ['no'], ['no'], ['no'], ['no'], ['no'], ['yes'], ['no'], ['no'], ['yes'], ['no'], ['no'], ['no'], ['no'], ['no'], ['yes'], ['no'], ['yes'], ['no'], ['no'], ['no'], ['yes'], ['no'], ['no'], ['no'], ['no'], ['no'], ['no'], ['no'], ['no'], ['no'], ['yes'], ['no'], ['no'], ['yes'], ['no'], ['yes'], ['no'], ['no'], ['no'], ['no'], ['yes'], ['no'], ['yes'], ['no'], ['no'], ['no'], ['yes'], ['no'], ['yes'], ['no'], ['no'], ['yes'], ['no'], ['no'], ['no'], ['no'], ['no'], ['no'], ['yes'], ['no'], ['no'], ['no'], ['no'], ['no'], ['no'], ['no'], ['no'], ['yes'], ['no'], ['yes'], ['no'], ['no'], ['yes'], ['no'], ['yes'], ['no'], ['no'], ['no'], ['no'], ['no'], ['no'], ['no'], ['no'], ['no'], ['no'], ['no'], ['no'], ['no'], ['no'], ['yes'], ['no'], ['no'], ['no'], ['no'], ['yes'], ['no'], ['no'], ['yes'], ['no'], ['no'], ['no'], ['no'], ['no'], ['no'], ['no'], ['no'], ['no'], ['no'], ['no'], ['no'], ['no'], ['no'], ['yes'], ['no'], ['no'], ['no'], ['no'], ['no'], ['no'], ['no'], ['no'], ['no'], ['no'], ['no'], ['no'], ['no'], ['no'], ['no'], ['no'], ['no'], ['no'], ['no'], ['yes'], ['yes'], ['no'], ['no'], ['no'], ['no'], ['no'], ['yes'], ['yes'], ['no'], ['no'], ['no'], ['no'], ['no'], ['yes'], ['yes'], ['yes'], ['no'], ['no'], ['no'], ['no'], ['yes'], ['no'], ['no'], ['no'], ['no'], ['yes'], ['yes'], ['no'], ['no'], ['no'], ['no'], ['no'], ['no'], ['no'], ['no'], ['no'], ['no'], ['no'], ['no'], ['no'], ['no'], ['no'], ['no'], ['yes'], ['no'], ['yes'], ['yes'], ['no'], ['no'], ['no'], ['no'], ['no'], ['no'], ['no'], ['no'], ['no'], ['yes'], ['no'], ['no'], ['no'], ['no'], ['no'], ['no'], ['yes'], ['no'], ['no'], ['yes'], ['no'], ['yes'], ['no'], ['no'], ['no'], ['no'], ['no'], ['no'], ['no'], ['no'], ['yes'], ['no'], ['no'], ['no'], ['yes'], ['no'], ['no'], ['yes'], ['no'], ['no'], ['yes'], ['no'], ['yes'], ['no'], ['no'], ['no'], ['no'], ['no'], ['no'], ['no'], ['no'], ['no'], ['no'], ['no'], ['no'], ['no'], ['yes'], ['no'], ['no'], ['no'], ['no'], ['no'], ['no'], ['no'], ['no'], ['no'], ['no'], ['no'], ['no'], ['no'], ['no'], ['no'], ['no'], ['no'], ['no'], ['no'], ['no'], ['no'], ['no'], ['yes'], ['no'], ['no'], ['no'], ['no'], ['yes'], ['no'], ['yes'], ['yes'], ['no'], ['no'], ['no'], ['no'], ['no'], ['no'], ['no'], ['no'], ['no'], ['no'], ['no'], ['no'], ['no'], ['no'], ['no'], ['no'], ['no'], ['no'], ['no'], ['yes'], ['no'], ['no'], ['no'], ['no'], ['no'], ['no'], ['no'], ['no'], ['no'], ['no'], ['no'], ['no'], ['no'], ['no'], ['no'], ['no'], ['yes'], ['no'], ['no'], ['no'], ['no'], ['yes'], ['no'], ['yes'], ['no'], ['no'], ['no'], ['no'], ['yes'], ['no'], ['no'], ['yes'], ['no'], ['no'], ['no'], ['no'], ['no'], ['no'], ['no'], ['no'], ['no'], ['yes'], ['no'], ['yes'], ['no'], ['no'], ['no'], ['no'], ['no'], ['no'], ['no'], ['no'], ['no'], ['no'], ['no'], ['yes'], ['no'], ['no'], ['no'], ['no'], ['no'], ['no'], ['no'], ['no'], ['no'], ['yes'], ['yes'], ['no'], ['yes'], ['no'], ['yes'], ['yes'], ['no'], ['no'], ['no'], ['no'], ['no'], ['no'], ['no'], ['no'], ['yes'], ['yes'], ['yes'], ['yes'], ['no'], ['no'], ['no'], ['no'], ['no'], ['yes'], ['no'], ['no'], ['no'], ['no'], ['yes'], ['no'], ['no'], ['no'], ['no'], ['no'], ['no'], ['no'], ['yes'], ['no'], ['no'], ['no'], ['yes'], ['no'], ['no'], ['no'], ['no'], ['yes'], ['no'], ['no'], ['no'], ['no'], ['no'], ['no'], ['yes'], ['yes'], ['no'], ['no'], ['no'], ['yes'], ['no'], ['yes'], ['yes'], ['no'], ['yes'], ['no'], ['no'], ['yes'], ['no'], ['no'], ['no'], ['no'], ['yes'], ['no'], ['no'], ['no'], ['no'], ['no'], ['no'], ['yes'], ['no'], ['no'], ['no'], ['no'], ['yes'], ['yes'], ['yes'], ['no'], ['no'], ['no'], ['no'], ['no'], ['no'], ['no'], ['no'], ['no'], ['no'], ['yes'], ['no'], ['yes'], ['no'], ['no'], ['no'], ['no'], ['yes'], ['no'], ['no'], ['no'], ['no'], ['no'], ['no'], ['yes'], ['no'], ['no'], ['no'], ['no'], ['no'], ['no'], ['no'], ['no'], ['no'], ['no'], ['no'], ['no'], ['no'], ['no'], ['no'], ['no'], ['no'], ['no'], ['no'], ['no'], ['no'], ['no'], ['no'], ['no'], ['no'], ['no'], ['no'], ['no'], ['yes'], ['no'], ['no'], ['no'], ['no'], ['no'], ['no'], ['no'], ['no'], ['no'], ['no'], ['no'], ['no'], ['no'], ['no'], ['no'], ['no'], ['yes'], ['no'], ['no'], ['yes'], ['no'], ['yes'], ['no'], ['no'], ['no'], ['no'], ['no'], ['no'], ['no'], ['no'], ['no'], ['no'], ['no'], ['no'], ['no'], ['no'], ['no'], ['no'], ['no'], ['no'], ['no'], ['no'], ['no'], ['no'], ['no'], ['no'], ['no'], ['yes'], ['no'], ['no'], ['no'], ['no'], ['no'], ['no'], ['no'], ['no'], ['no'], ['no'], ['no'], ['no'], ['no'], ['no'], ['no'], ['no'], ['no'], ['yes'], ['no'], ['no'], ['no'], ['no'], ['yes'], ['no'], ['yes'], ['no'], ['no'], ['no'], ['no'], ['no'], ['no'], ['yes'], ['no'], ['no'], ['no'], ['no'], ['no'], ['no'], ['no'], ['no'], ['no'], ['no'], ['no'], ['no'], ['no'], ['no'], ['no'], ['no'], ['yes'], ['no'], ['no'], ['no'], ['no'], ['no'], ['yes'], ['yes'], ['no'], ['no'], ['no'], ['no'], ['no'], ['no'], ['no'], ['yes'], ['no'], ['no'], ['no'], ['no'], ['no'], ['no'], ['no'], ['no'], ['no'], ['no'], ['no'], ['no'], ['no'], ['no'], ['no'], ['yes'], ['no'], ['no'], ['no'], ['no'], ['no'], ['no'], ['no'], ['no'], ['no'], ['no'], ['no'], ['yes'], ['no'], ['no'], ['no'], ['no'], ['no'], ['no'], ['no'], ['no'], ['no'], ['no'], ['no'], ['no'], ['no'], ['no'], ['no'], ['no'], ['no'], ['no'], ['no'], ['no'], ['no'], ['no'], ['no'], ['yes'], ['yes'], ['no'], ['no'], ['no'], ['no'], ['no'], ['no'], ['no'], ['no'], ['no'], ['no'], ['no'], ['no'], ['no'], ['no'], ['no'], ['no'], ['yes'], ['yes'], ['no'], ['no'], ['no'], ['yes'], ['no'], ['no'], ['no'], ['no'], ['yes'], ['no'], ['no'], ['no'], ['yes'], ['no'], ['no'], ['yes'], ['no'], ['no'], ['no'], ['no'], ['no'], ['no'], ['no'], ['no'], ['no'], ['no'], ['no'], ['no'], ['yes'], ['no'], ['yes'], ['no'], ['no'], ['no'], ['no'], ['no'], ['no'], ['yes'], ['yes'], ['no'], ['no'], ['no'], ['no'], ['no'], ['no'], ['no'], ['no'], ['no'], ['no'], ['no'], ['no'], ['no'], ['no'], ['yes'], ['no'], ['yes'], ['no'], ['no'], ['yes'], ['no'], ['no'], ['yes'], ['no'], ['yes'], ['yes'], ['yes'], ['no'], ['yes'], ['no'], ['no'], ['no'], ['no'], ['no'], ['no'], ['no'], ['no'], ['no'], ['no'], ['yes'], ['no'], ['no'], ['no'], ['no'], ['no'], ['no'], ['no'], ['no'], ['no'], ['yes'], ['yes'], ['no'], ['no'], ['no'], ['no'], ['yes'], ['no'], ['yes'], ['no'], ['no'], ['no'], ['no'], ['no'], ['no'], ['no'], ['no'], ['no'], ['no'], ['no'], ['no'], ['no'], ['no'], ['no'], ['no'], ['no'], ['yes'], ['yes'], ['no'], ['yes'], ['yes'], ['no'], ['no'], ['no'], ['no'], ['no'], ['no'], ['no'], ['no'], ['yes'], ['no'], ['no'], ['yes'], ['no'], ['no'], ['yes'], ['no'], ['no'], ['no'], ['yes'], ['no'], ['no'], ['no'], ['no'], ['no'], ['no'], ['no'], ['no'], ['no'], ['yes'], ['no'], ['no'], ['no'], ['no'], ['yes'], ['yes'], ['no'], ['no'], ['no'], ['no'], ['no'], ['yes'], ['no'], ['no'], ['no'], ['no'], ['yes'], ['yes'], ['yes'], ['no'], ['yes'], ['no'], ['no'], ['no'], ['no'], ['no'], ['no'], ['no'], ['no'], ['no'], ['no'], ['yes'], ['no'], ['no'], ['no'], ['no'], ['yes'], ['no'], ['no'], ['no'], ['yes'], ['yes'], ['no'], ['no'], ['no'], ['no'], ['no'], ['no'], ['no'], ['no'], ['yes'], ['yes'], ['no'], ['no'], ['no'], ['no'], ['no'], ['yes'], ['no'], ['yes'], ['no'], ['no'], ['no'], ['yes'], ['yes'], ['no'], ['no'], ['no'], ['no'], ['no'], ['no'], ['no'], ['no'], ['yes'], ['no'], ['no'], ['yes'], ['no'], ['no'], ['no'], ['no'], ['no'], ['no'], ['no'], ['yes'], ['yes'], ['no'], ['yes'], ['yes'], ['no'], ['no'], ['no'], ['no'], ['yes'], ['no'], ['yes'], ['no'], ['no'], ['no'], ['no'], ['yes'], ['yes'], ['yes'], ['no'], ['no'], ['no'], ['no'], ['no'], ['no'], ['no'], ['no'], ['no'], ['no'], ['no'], ['no'], ['yes'], ['no'], ['no'], ['no'], ['no'], ['no'], ['no'], ['no'], ['yes'], ['no'], ['no'], ['no'], ['no'], ['no'], ['no'], ['no'], ['no'], ['no'], ['yes'], ['yes'], ['no'], ['no'], ['no'], ['no'], ['yes'], ['no'], ['no'], ['no'], ['no'], ['no'], ['no'], ['no'], ['no'], ['no'], ['no'], ['no'], ['no'], ['no'], ['no'], ['no'], ['no'], ['yes'], ['no'], ['no'], ['no'], ['yes'], ['no'], ['no'], ['no'], ['no'], ['no'], ['no'], ['no'], ['no'], ['no'], ['no'], ['no'], ['no'], ['no'], ['no'], ['no'], ['no'], ['no'], ['no'], ['no'], ['no'], ['no'], ['no'], ['no'], ['no'], ['yes'], ['no'], ['no'], ['no'], ['yes'], ['no'], ['yes'], ['no'], ['yes'], ['no'], ['no'], ['yes'], ['no'], ['no'], ['no'], ['no'], ['yes'], ['no'], ['no'], ['no'], ['no'], ['no'], ['no'], ['no'], ['no'], ['no'], ['yes'], ['no'], ['no'], ['yes'], ['no'], ['no'], ['yes'], ['no'], ['yes'], ['no'], ['no'], ['no'], ['no'], ['no'], ['no'], ['no'], ['no'], ['no'], ['yes'], ['yes'], ['no'], ['no'], ['no'], ['no'], ['no'], ['no'], ['no'], ['no'], ['no'], ['no'], ['no'], ['no'], ['no'], ['no'], ['no'], ['no'], ['yes'], ['no'], ['yes'], ['no'], ['no'], ['no'], ['no'], ['no'], ['no'], ['no'], ['no'], ['no'], ['yes'], ['no'], ['no'], ['no'], ['no'], ['yes'], ['yes'], ['no'], ['no'], ['no'], ['no'], ['yes'], ['no'], ['no'], ['no'], ['no'], ['yes'], ['yes'], ['no'], ['yes'], ['no'], ['yes'], ['no'], ['no'], ['no'], ['no'], ['no'], ['no'], ['no'], ['no'], ['no'], ['yes'], ['no'], ['no'], ['no'], ['no'], ['no'], ['no'], ['no'], ['no'], ['no'], ['no'], ['no'], ['no'], ['no'], ['no'], ['no'], ['no'], ['no'], ['no'], ['no'], ['no'], ['no'], ['no'], ['no'], ['no'], ['no'], ['yes'], ['no'], ['no'], ['no'], ['yes'], ['yes'], ['yes'], ['no'], ['no'], ['no'], ['no'], ['no'], ['no'], ['no'], ['no'], ['no'], ['no'], ['no'], ['no'], ['no'], ['yes'], ['yes'], ['no'], ['no'], ['no'], ['no'], ['no'], ['yes'], ['no'], ['no'], ['yes'], ['no'], ['yes'], ['no'], ['no'], ['no'], ['no'], ['no'], ['no'], ['no'], ['no'], ['no'], ['no'], ['yes'], ['yes'], ['no'], ['no'], ['yes'], ['no'], ['no'], ['yes'], ['no'], ['no'], ['no'], ['no'], ['no'], ['no'], ['no'], ['yes'], ['no'], ['no'], ['no'], ['no'], ['no'], ['yes'], ['no'], ['no'], ['no'], ['no'], ['no'], ['yes'], ['no'], ['no'], ['yes'], ['no'], ['no'], ['yes'], ['no'], ['no'], ['no'], ['no'], ['no'], ['no'], ['no'], ['no'], ['no'], ['no'], ['no'], ['no'], ['no'], ['no'], ['no'], ['no'], ['no'], ['yes'], ['no'], ['no'], ['no'], ['no'], ['no'], ['no'], ['no'], ['no'], ['no'], ['no'], ['no'], ['no'], ['yes'], ['no'], ['no'], ['no'], ['no'], ['no'], ['no'], ['no'], ['no'], ['no'], ['no'], ['no'], ['no'], ['yes'], ['no'], ['yes'], ['yes'], ['no'], ['no'], ['no'], ['no'], ['no'], ['yes'], ['yes'], ['yes'], ['yes'], ['no'], ['no'], ['no'], ['no'], ['no'], ['no'], ['no'], ['no'], ['no'], ['no'], ['no'], ['no'], ['no'], ['no'], ['no'], ['no'], ['no'], ['no'], ['no'], ['no'], ['no'], ['no'], ['no'], ['no'], ['no'], ['no'], ['no'], ['no'], ['no'], ['no'], ['yes'], ['no'], ['no'], ['no'], ['no'], ['yes'], ['no'], ['no'], ['no'], ['no'], ['no'], ['no'], ['no'], ['no'], ['no'], ['no'], ['no'], ['no'], ['no'], ['no'], ['no'], ['yes'], ['no'], ['no'], ['no'], ['no'], ['no'], ['no'], ['no'], ['no'], ['no'], ['yes'], ['no'], ['no'], ['yes'], ['no'], ['no'], ['no'], ['yes'], ['yes'], ['no'], ['yes'], ['yes'], ['no'], ['yes'], ['no'], ['no'], ['no'], ['no'], ['no'], ['no'], ['no'], ['no'], ['no'], ['no'], ['yes'], ['no'], ['no'], ['no'], ['no'], ['no'], ['no'], ['no'], ['no'], ['yes'], ['no'], ['no'], ['yes'], ['yes'], ['no'], ['yes'], ['no'], ['no'], ['yes'], ['yes'], ['no'], ['no'], ['yes'], ['yes'], ['no'], ['yes'], ['no'], ['no'], ['no'], ['yes'], ['no'], ['yes'], ['yes'], ['no'], ['no'], ['no'], ['no'], ['no'], ['yes'], ['no'], ['no'], ['no'], ['no'], ['no'], ['yes'], ['no'], ['no'], ['no'], ['no'], ['yes'], ['yes'], ['no'], ['no'], ['yes'], ['no'], ['no'], ['yes'], ['no'], ['no'], ['no'], ['no'], ['no'], ['yes'], ['no'], ['no'], ['no'], ['no'], ['no'], ['no'], ['no'], ['no'], ['no'], ['no'], ['no'], ['yes'], ['yes'], ['no'], ['yes'], ['no'], ['no'], ['no'], ['no'], ['no'], ['no'], ['no'], ['no'], ['yes'], ['no'], ['no'], ['no'], ['no'], ['no'], ['no'], ['no'], ['no'], ['no'], ['yes'], ['no'], ['yes'], ['no'], ['no'], ['yes'], ['no'], ['yes'], ['no'], ['no'], ['no'], ['no'], ['no'], ['yes'], ['no'], ['no'], ['no'], ['yes'], ['yes'], ['no'], ['no'], ['no'], ['no'], ['no'], ['no'], ['no'], ['no'], ['no'], ['no'], ['no'], ['no'], ['no'], ['no'], ['yes'], ['no'], ['yes'], ['no'], ['no'], ['no'], ['no'], ['no'], ['no'], ['yes'], ['yes'], ['no'], ['no'], ['no'], ['no'], ['yes'], ['no'], ['no'], ['no'], ['no'], ['no'], ['no'], ['no'], ['no'], ['no'], ['no'], ['no'], ['no'], ['no'], ['no'], ['no'], ['no'], ['yes'], ['no'], ['no'], ['no'], ['no'], ['no'], ['no'], ['no'], ['no'], ['no'], ['no'], ['no'], ['no'], ['no'], ['no'], ['yes'], ['no'], ['no'], ['no'], ['no'], ['no'], ['no'], ['yes'], ['no'], ['no'], ['no'], ['no'], ['no'], ['yes'], ['no'], ['no'], ['no'], ['no'], ['yes'], ['no'], ['no'], ['no'], ['no'], ['no'], ['no'], ['no'], ['yes'], ['no'], ['yes'], ['no'], ['yes'], ['no'], ['no'], ['no'], ['yes'], ['no'], ['no'], ['no'], ['no'], ['no'], ['no'], ['no'], ['no'], ['yes'], ['no'], ['no'], ['no'], ['yes'], ['no'], ['no'], ['no'], ['no'], ['no'], ['no'], ['no'], ['no'], ['no'], ['no'], ['no'], ['no'], ['yes'], ['no'], ['yes'], ['no'], ['no'], ['yes'], ['no'], ['no'], ['no'], ['no'], ['yes'], ['no'], ['no'], ['no'], ['no'], ['no'], ['no'], ['yes'], ['yes'], ['no'], ['yes'], ['no'], ['yes'], ['no'], ['no'], ['no'], ['no'], ['no'], ['no'], ['no'], ['yes'], ['no'], ['no'], ['no'], ['no'], ['no'], ['no'], ['no'], ['no'], ['no'], ['yes'], ['yes'], ['yes'], ['no'], ['no'], ['no'], ['no'], ['no'], ['no'], ['yes'], ['no'], ['no'], ['no'], ['yes'], ['yes'], ['no'], ['no'], ['yes'], ['no'], ['no'], ['no'], ['no'], ['no'], ['no'], ['no'], ['no'], ['no'], ['no'], ['no'], ['no'], ['no'], ['no'], ['yes'], ['no'], ['no'], ['no'], ['yes'], ['no'], ['no'], ['no'], ['no'], ['no'], ['no'], ['no'], ['no'], ['yes'], ['no'], ['no'], ['no'], ['no'], ['no'], ['no'], ['no'], ['no'], ['yes'], ['no'], ['no'], ['no'], ['yes'], ['yes'], ['no'], ['no'], ['no'], ['no'], ['no'], ['yes'], ['no'], ['no'], ['yes'], ['yes'], ['no'], ['no'], ['no'], ['no'], ['no'], ['no'], ['yes'], ['no'], ['no'], ['no'], ['no'], ['no'], ['no'], ['no'], ['yes'], ['no'], ['no'], ['no'], ['no'], ['no'], ['no'], ['no'], ['no'], ['no'], ['no'], ['no'], ['no'], ['no'], ['yes'], ['no'], ['no'], ['no'], ['no'], ['no'], ['no'], ['yes'], ['no'], ['no'], ['yes'], ['no'], ['yes'], ['no'], ['no'], ['no'], ['no'], ['no'], ['no'], ['no'], ['no'], ['no'], ['no'], ['no'], ['no'], ['no'], ['no'], ['no'], ['no'], ['no'], ['no'], ['yes'], ['no'], ['no'], ['no'], ['no'], ['no'], ['no'], ['no'], ['no'], ['no'], ['no'], ['no'], ['no'], ['no'], ['yes'], ['no'], ['no'], ['no'], ['no'], ['no'], ['yes'], ['no'], ['no'], ['no'], ['no'], ['no'], ['no'], ['no'], ['no'], ['no'], ['no'], ['no'], ['no'], ['yes'], ['no'], ['no'], ['no'], ['no'], ['no'], ['no'], ['no'], ['no'], ['yes'], ['no'], ['no'], ['no'], ['yes'], ['no'], ['yes'], ['yes'], ['no'], ['no'], ['yes'], ['no'], ['no'], ['no'], ['no'], ['yes'], ['no'], ['yes'], ['no'], ['no'], ['no'], ['no'], ['no'], ['no'], ['no'], ['no'], ['yes'], ['no'], ['yes'], ['no'], ['no'], ['no'], ['no'], ['no'], ['no'], ['yes'], ['no'], ['no'], ['no'], ['no'], ['no'], ['no'], ['no'], ['yes'], ['no'], ['yes'], ['no'], ['no'], ['no'], ['no'], ['no'], ['yes'], ['no'], ['no'], ['no'], ['no'], ['no'], ['no'], ['no'], ['no'], ['no'], ['no'], ['no'], ['no'], ['no'], ['no'], ['no'], ['no'], ['yes'], ['yes'], ['no'], ['no'], ['no'], ['no'], ['no'], ['no'], ['no'], ['no'], ['no'], ['no'], ['no'], ['yes'], ['no'], ['yes'], ['no'], ['no'], ['no'], ['no'], ['no'], ['no'], ['no'], ['no'], ['no'], ['no'], ['no'], ['no'], ['no'], ['no'], ['no'], ['no'], ['no'], ['no'], ['yes'], ['no'], ['no'], ['no'], ['yes'], ['no'], ['yes'], ['no'], ['yes'], ['no'], ['yes'], ['no'], ['no'], ['no'], ['yes'], ['yes'], ['no'], ['no'], ['no'], ['yes'], ['no'], ['no'], ['no'], ['yes'], ['no'], ['no'], ['no'], ['no'], ['no'], ['no'], ['no'], ['no'], ['no'], ['no'], ['no'], ['no'], ['no'], ['no'], ['yes'], ['no'], ['no'], ['yes'], ['no'], ['no'], ['no'], ['yes'], ['no'], ['no'], ['yes'], ['no'], ['no'], ['no'], ['no'], ['no'], ['no'], ['no'], ['yes'], ['no'], ['no'], ['no'], ['no'], ['yes'], ['no'], ['no'], ['no'], ['no'], ['no'], ['yes'], ['no'], ['no'], ['no'], ['yes'], ['no'], ['no'], ['no'], ['no'], ['yes'], ['yes'], ['yes'], ['no'], ['no'], ['no'], ['no'], ['yes'], ['no'], ['no'], ['no'], ['no'], ['no'], ['no'], ['no'], ['no'], ['no'], ['no'], ['yes'], ['no'], ['no'], ['no'], ['no'], ['no'], ['no'], ['no'], ['no'], ['no'], ['no'], ['no'], ['yes'], ['no'], ['no'], ['yes'], ['yes'], ['no'], ['yes'], ['no'], ['no'], ['no'], ['no'], ['no'], ['no'], ['no'], ['no'], ['no'], ['no'], ['no'], ['yes'], ['yes'], ['no'], ['no'], ['no'], ['no'], ['no'], ['no'], ['no'], ['no'], ['no'], ['no'], ['no'], ['no'], ['no'], ['no'], ['yes'], ['no'], ['no'], ['yes'], ['no'], ['no'], ['no'], ['no'], ['yes'], ['no'], ['yes'], ['no'], ['no'], ['no'], ['no'], ['yes'], ['no'], ['no'], ['no'], ['no'], ['no'], ['yes'], ['no'], ['no'], ['yes'], ['no'], ['no'], ['no'], ['no'], ['no'], ['yes'], ['no'], ['no'], ['yes'], ['no'], ['no'], ['no'], ['no'], ['no'], ['no'], ['no'], ['no'], ['no'], ['no'], ['no'], ['yes'], ['no'], ['no'], ['no'], ['no'], ['no'], ['no'], ['no'], ['no'], ['yes'], ['yes'], ['no'], ['yes'], ['no'], ['no'], ['no'], ['yes'], ['no'], ['no'], ['no'], ['yes'], ['no'], ['no'], ['no'], ['no'], ['no'], ['yes'], ['no'], ['no'], ['no'], ['yes'], ['no'], ['no'], ['no'], ['yes'], ['no'], ['no'], ['no'], ['no'], ['yes'], ['no'], ['no'], ['no'], ['yes'], ['no'], ['no'], ['no'], ['no'], ['no'], ['no'], ['no'], ['no'], ['no'], ['no'], ['no'], ['no'], ['yes'], ['no'], ['no'], ['no'], ['no'], ['yes'], ['no'], ['no'], ['no'], ['no'], ['yes'], ['no'], ['no'], ['no'], ['yes'], ['yes'], ['yes'], ['no'], ['no'], ['no'], ['no'], ['no'], ['no'], ['yes'], ['no'], ['no'], ['no'], ['no'], ['no'], ['no'], ['no'], ['no'], ['no'], ['no'], ['no'], ['yes'], ['no'], ['no'], ['no'], ['no'], ['yes'], ['no'], ['yes'], ['no'], ['no'], ['no'], ['no'], ['no'], ['no'], ['no'], ['no'], ['no'], ['no'], ['no'], ['no'], ['no'], ['no'], ['no'], ['no'], ['no'], ['no'], ['no'], ['no'], ['no'], ['no'], ['no'], ['no'], ['no'], ['no'], ['no'], ['no'], ['no'], ['no'], ['no'], ['no'], ['yes'], ['yes'], ['no'], ['no'], ['no'], ['no'], ['no'], ['yes'], ['no'], ['yes'], ['no'], ['no'], ['no'], ['yes'], ['no'], ['yes'], ['no'], ['no'], ['yes'], ['no'], ['no'], ['yes'], ['no'], ['yes'], ['no'], ['no'], ['no'], ['no'], ['yes'], ['no'], ['no'], ['no'], ['no'], ['no'], ['no'], ['no'], ['no'], ['no'], ['yes'], ['no'], ['yes'], ['yes'], ['no'], ['no'], ['no'], ['no'], ['no'], ['no'], ['no'], ['no'], ['no'], ['no'], ['yes'], ['no'], ['no'], ['no'], ['no'], ['no'], ['yes'], ['no'], ['no'], ['no'], ['yes'], ['no'], ['no'], ['no'], ['yes'], ['no'], ['yes'], ['no'], ['no'], ['no'], ['no'], ['no'], ['no'], ['no'], ['yes'], ['no'], ['no'], ['no'], ['no'], ['no'], ['no'], ['no'], ['no'], ['no'], ['yes'], ['no'], ['no'], ['no'], ['no'], ['no'], ['no'], ['yes'], ['no'], ['no'], ['yes'], ['no'], ['no'], ['yes'], ['yes'], ['no'], ['no'], ['no'], ['no'], ['no'], ['no'], ['no'], ['no'], ['no'], ['no'], ['no'], ['no'], ['no'], ['no'], ['no'], ['no'], ['no'], ['no'], ['no'], ['no'], ['no'], ['no'], ['no'], ['no'], ['no'], ['no'], ['no'], ['no'], ['no'], ['yes'], ['no'], ['yes'], ['yes'], ['no'], ['no'], ['no'], ['yes'], ['no'], ['no'], ['no'], ['no'], ['no'], ['no'], ['no'], ['no'], ['no'], ['yes'], ['yes'], ['no'], ['no'], ['no'], ['no'], ['no'], ['no'], ['yes'], ['no'], ['no'], ['no'], ['no'], ['no'], ['no'], ['no'], ['no'], ['no'], ['no'], ['no'], ['no'], ['no'], ['no'], ['no'], ['no'], ['no'], ['no'], ['no'], ['no'], ['yes'], ['no'], ['yes'], ['no'], ['no'], ['no'], ['no'], ['no'], ['no'], ['yes'], ['yes'], ['no'], ['yes'], ['yes'], ['no'], ['yes'], ['no'], ['no'], ['no'], ['no'], ['no'], ['no'], ['no'], ['yes'], ['no'], ['no'], ['yes'], ['no'], ['no'], ['no'], ['no'], ['no'], ['no'], ['no'], ['no'], ['yes'], ['no'], ['yes'], ['no'], ['no'], ['no'], ['no'], ['no'], ['no'], ['no'], ['no'], ['no'], ['no'], ['no'], ['no'], ['no'], ['no'], ['no'], ['no'], ['no'], ['no'], ['no'], ['no'], ['yes'], ['no'], ['yes'], ['no'], ['yes'], ['yes'], ['no'], ['no'], ['no'], ['no'], ['no'], ['no'], ['no'], ['no'], ['no'], ['no'], ['no'], ['no'], ['no'], ['no'], ['no'], ['no'], ['no'], ['no'], ['no'], ['yes'], ['yes'], ['no'], ['no'], ['no'], ['no'], ['no'], ['no'], ['no'], ['no'], ['yes'], ['yes'], ['yes'], ['no'], ['no'], ['no'], ['no'], ['no'], ['no'], ['no'], ['no'], ['no'], ['no'], ['no'], ['no'], ['yes'], ['no'], ['no'], ['no'], ['no'], ['no'], ['yes'], ['yes'], ['no'], ['no'], ['no'], ['no'], ['no'], ['yes'], ['no'], ['no'], ['no'], ['no'], ['yes'], ['no'], ['no'], ['no'], ['no'], ['no'], ['yes'], ['no'], ['no'], ['no'], ['no'], ['no'], ['no'], ['no'], ['no'], ['no'], ['yes'], ['no'], ['no'], ['no'], ['yes'], ['yes'], ['yes'], ['no'], ['no'], ['no'], ['no'], ['no'], ['no'], ['no'], ['yes'], ['no'], ['yes'], ['no'], ['no'], ['no'], ['no'], ['no'], ['no'], ['no'], ['no'], ['no'], ['no'], ['no'], ['no'], ['no'], ['no'], ['yes'], ['no'], ['no'], ['no'], ['no'], ['no'], ['yes'], ['no'], ['no'], ['no'], ['yes'], ['no'], ['no'], ['no'], ['no'], ['yes'], ['yes'], ['no'], ['no'], ['no'], ['no'], ['no'], ['no'], ['no'], ['no'], ['yes'], ['yes'], ['no'], ['no'], ['yes'], ['yes'], ['no'], ['no'], ['no'], ['no'], ['no'], ['no'], ['no'], ['no'], ['no'], ['no'], ['yes'], ['yes'], ['no'], ['no'], ['no'], ['yes'], ['no'], ['yes'], ['no'], ['no'], ['no'], ['yes'], ['yes'], ['no'], ['no'], ['yes'], ['no'], ['no'], ['no'], ['no'], ['yes'], ['no'], ['no'], ['yes'], ['no'], ['no'], ['no'], ['no'], ['no'], ['yes'], ['no'], ['no'], ['no'], ['no'], ['yes'], ['no'], ['no'], ['no'], ['no'], ['yes'], ['no'], ['no'], ['no'], ['yes'], ['no'], ['yes'], ['no'], ['no'], ['no'], ['no'], ['no'], ['no'], ['yes'], ['no'], ['no'], ['yes'], ['no'], ['no'], ['no'], ['no'], ['no'], ['no'], ['yes'], ['yes'], ['no'], ['no'], ['no'], ['no'], ['yes'], ['no'], ['no'], ['no'], ['yes'], ['no'], ['no'], ['no'], ['no'], ['no'], ['yes'], ['no'], ['yes'], ['yes'], ['no'], ['yes'], ['no'], ['no'], ['no'], ['no'], ['no'], ['no'], ['yes'], ['no'], ['no'], ['no'], ['no'], ['no'], ['no'], ['no'], ['yes'], ['no'], ['no'], ['no'], ['no'], ['no'], ['no'], ['no'], ['no'], ['no'], ['no'], ['no'], ['no'], ['no'], ['no'], ['no'], ['no'], ['no'], ['no'], ['yes'], ['no'], ['no'], ['no'], ['no'], ['no'], ['no'], ['no'], ['yes'], ['no'], ['no'], ['no'], ['no'], ['no'], ['yes'], ['no'], ['no'], ['yes'], ['no'], ['no'], ['yes'], ['yes'], ['no'], ['no'], ['no'], ['no'], ['no'], ['no'], ['no'], ['no'], ['no'], ['no'], ['yes'], ['no'], ['no'], ['no'], ['no'], ['no'], ['yes'], ['yes'], ['no'], ['no'], ['no'], ['no'], ['yes'], ['no'], ['no'], ['no'], ['no'], ['no'], ['no'], ['no'], ['no'], ['no'], ['no'], ['no'], ['no'], ['no'], ['yes'], ['yes'], ['no'], ['no'], ['no'], ['no'], ['yes'], ['no'], ['yes'], ['no'], ['no'], ['no'], ['yes'], ['no'], ['no'], ['no'], ['no'], ['no'], ['no'], ['no'], ['no'], ['no'], ['no'], ['yes'], ['no'], ['no'], ['yes'], ['no'], ['no'], ['no'], ['no'], ['no'], ['no'], ['no'], ['no'], ['no'], ['no'], ['no'], ['no'], ['no'], ['no'], ['yes'], ['yes'], ['no'], ['no'], ['yes'], ['no'], ['no'], ['no'], ['no'], ['yes'], ['no'], ['no'], ['no'], ['no'], ['yes'], ['no'], ['no'], ['no'], ['no'], ['no'], ['no'], ['no'], ['no'], ['no'], ['no'], ['no'], ['no'], ['no'], ['no'], ['no'], ['no'], ['no'], ['no'], ['no'], ['no'], ['no'], ['yes'], ['no'], ['no'], ['no'], ['no'], ['no'], ['yes'], ['no'], ['no'], ['no'], ['no'], ['no'], ['yes'], ['no'], ['no'], ['no'], ['yes'], ['no'], ['no'], ['no'], ['no'], ['no'], ['no'], ['no'], ['no'], ['no'], ['no'], ['yes'], ['yes'], ['yes'], ['no'], ['yes'], ['no'], ['no'], ['no'], ['no'], ['no'], ['no'], ['no'], ['no'], ['no'], ['yes'], ['no'], ['no'], ['no'], ['no'], ['no'], ['no'], ['no'], ['no'], ['yes'], ['no'], ['no'], ['no'], ['no'], ['no'], ['no'], ['yes'], ['yes'], ['no'], ['no'], ['no'], ['yes'], ['yes'], ['no'], ['no'], ['no'], ['no'], ['yes'], ['no'], ['no'], ['yes'], ['no'], ['no'], ['no'], ['no'], ['no'], ['no'], ['yes'], ['no'], ['yes'], ['no'], ['no'], ['no'], ['no'], ['no'], ['no'], ['no'], ['no'], ['no'], ['no'], ['no'], ['yes'], ['no'], ['no'], ['no'], ['no'], ['no'], ['no'], ['yes'], ['no'], ['yes'], ['no'], ['yes'], ['no'], ['no'], ['yes'], ['no'], ['no'], ['no'], ['no'], ['no'], ['no'], ['no'], ['no'], ['no'], ['no'], ['yes'], ['no'], ['no'], ['no'], ['no'], ['yes'], ['no'], ['no'], ['no'], ['no'], ['no'], ['yes'], ['no'], ['no'], ['no'], ['no'], ['no'], ['no'], ['no'], ['yes'], ['no'], ['no'], ['no'], ['no'], ['no'], ['no'], ['no'], ['no'], ['no'], ['no'], ['no'], ['no'], ['no'], ['no'], ['no'], ['yes'], ['yes'], ['no'], ['yes'], ['no'], ['no'], ['no'], ['no'], ['no'], ['no'], ['no'], ['no'], ['no'], ['no'], ['no'], ['no'], ['yes'], ['no'], ['no'], ['no'], ['no'], ['no'], ['no'], ['no'], ['no'], ['no'], ['no'], ['yes'], ['no'], ['yes'], ['no'], ['no'], ['no'], ['yes'], ['no'], ['no'], ['no'], ['no'], ['no'], ['no'], ['yes'], ['yes'], ['no'], ['yes'], ['no'], ['no'], ['no'], ['yes'], ['no'], ['no'], ['yes'], ['no'], ['no'], ['no'], ['no'], ['no'], ['no'], ['no'], ['yes'], ['no'], ['no'], ['yes'], ['no'], ['no'], ['no'], ['no'], ['yes'], ['no'], ['no'], ['no'], ['no'], ['no'], ['no'], ['no'], ['yes'], ['no'], ['no'], ['no'], ['no'], ['no'], ['no'], ['no'], ['no'], ['no'], ['no'], ['no'], ['no'], ['no'], ['no'], ['no'], ['no'], ['no'], ['no'], ['no'], ['yes'], ['no'], ['no'], ['no'], ['no'], ['yes'], ['no'], ['no'], ['no'], ['no'], ['no'], ['no'], ['no'], ['no'], ['yes'], ['no'], ['no'], ['no'], ['no'], ['no'], ['yes'], ['yes'], ['no'], ['yes'], ['no'], ['yes'], ['yes'], ['no'], ['no'], ['no'], ['no'], ['no'], ['yes'], ['no'], ['no'], ['no'], ['no'], ['yes'], ['yes'], ['yes'], ['yes'], ['no'], ['no'], ['no'], ['no'], ['no'], ['no'], ['no'], ['no'], ['no'], ['no'], ['yes'], ['no'], ['yes'], ['no'], ['no'], ['no'], ['no'], ['yes'], ['no'], ['no'], ['no'], ['no'], ['no'], ['no'], ['no'], ['no'], ['no'], ['no'], ['yes'], ['no'], ['no'], ['yes'], ['no'], ['no'], ['no'], ['no'], ['no'], ['no'], ['no'], ['no'], ['yes'], ['no'], ['no'], ['no'], ['no'], ['no'], ['no'], ['no'], ['no'], ['no'], ['no'], ['yes'], ['no'], ['no'], ['no'], ['no'], ['no'], ['yes'], ['yes'], ['no'], ['no'], ['no'], ['no'], ['yes'], ['yes'], ['no'], ['no'], ['yes'], ['yes'], ['no'], ['no'], ['no'], ['no'], ['yes'], ['no'], ['no'], ['yes'], ['no'], ['no'], ['no'], ['no'], ['yes'], ['no'], ['no'], ['no'], ['no'], ['yes'], ['no'], ['no'], ['no'], ['no'], ['no'], ['no'], ['yes'], ['no'], ['no'], ['no'], ['no'], ['no'], ['no'], ['no'], ['no'], ['yes'], ['no'], ['yes'], ['no'], ['no'], ['no'], ['yes'], ['yes'], ['no'], ['no'], ['no'], ['no'], ['no'], ['no'], ['no'], ['no'], ['no'], ['no'], ['no'], ['no'], ['yes'], ['no'], ['no'], ['no'], ['no'], ['no'], ['yes'], ['no'], ['no'], ['no'], ['no'], ['no'], ['yes'], ['no'], ['no'], ['no'], ['no'], ['no'], ['no'], ['no'], ['no'], ['no'], ['no'], ['no'], ['no'], ['no'], ['no'], ['no'], ['no'], ['no'], ['no'], ['no'], ['no'], ['no'], ['no'], ['no'], ['no'], ['no'], ['no'], ['no'], ['no'], ['no'], ['no'], ['yes'], ['no'], ['no'], ['no'], ['no'], ['no'], ['no'], ['yes'], ['no'], ['no'], ['yes'], ['no'], ['no'], ['no'], ['no'], ['no'], ['yes'], ['no'], ['no'], ['yes'], ['no'], ['no'], ['no'], ['yes'], ['no'], ['no'], ['no'], ['no'], ['yes'], ['yes'], ['no'], ['yes'], ['no'], ['yes'], ['no'], ['no'], ['no'], ['no'], ['yes'], ['no'], ['no'], ['yes'], ['no'], ['no'], ['no'], ['no'], ['no'], ['no'], ['no'], ['no'], ['no'], ['no'], ['yes'], ['no'], ['no'], ['no'], ['no'], ['no'], ['no'], ['no'], ['no'], ['no'], ['no'], ['no'], ['no'], ['yes'], ['no'], ['no'], ['no'], ['no'], ['no'], ['no'], ['no'], ['no'], ['no'], ['yes'], ['no'], ['no'], ['no'], ['no'], ['yes'], ['no'], ['no'], ['yes'], ['no'], ['no'], ['no'], ['no'], ['no'], ['yes'], ['no'], ['no'], ['yes'], ['no'], ['no'], ['no'], ['no'], ['no'], ['no'], ['yes'], ['no'], ['no'], ['no'], ['no'], ['no'], ['yes'], ['no'], ['yes'], ['no'], ['yes'], ['no'], ['no'], ['no'], ['no'], ['no'], ['no'], ['no'], ['no'], ['no'], ['no'], ['no'], ['no'], ['no'], ['no'], ['no'], ['no'], ['no'], ['no'], ['no'], ['no'], ['no'], ['no'], ['no'], ['no'], ['no'], ['no'], ['no'], ['no'], ['no'], ['no'], ['yes'], ['no'], ['no'], ['yes'], ['no'], ['no'], ['no'], ['no'], ['no'], ['no'], ['no'], ['no'], ['no'], ['no'], ['no'], ['no'], ['no'], ['yes'], ['yes'], ['no'], ['no'], ['no'], ['no'], ['no'], ['no'], ['no'], ['no'], ['no'], ['no'], ['no'], ['no'], ['no'], ['no'], ['no'], ['no'], ['no'], ['yes'], ['no'], ['yes'], ['yes'], ['yes'], ['yes'], ['no'], ['no'], ['no'], ['no'], ['yes'], ['no'], ['no'], ['no'], ['yes'], ['no'], ['no'], ['no'], ['no'], ['no'], ['no'], ['no'], ['yes'], ['no'], ['no'], ['no'], ['no'], ['no'], ['no'], ['yes'], ['no'], ['no'], ['no'], ['yes'], ['no'], ['no'], ['no'], ['no'], ['no'], ['no'], ['no'], ['no'], ['no'], ['no'], ['yes'], ['yes'], ['no'], ['no'], ['no'], ['no'], ['no'], ['no'], ['no'], ['no'], ['no'], ['yes'], ['no'], ['no'], ['no'], ['no'], ['no'], ['no'], ['yes'], ['no'], ['no'], ['yes'], ['yes'], ['no'], ['no'], ['no'], ['yes'], ['no'], ['no'], ['no'], ['no'], ['no'], ['yes'], ['yes'], ['yes'], ['no'], ['no'], ['yes'], ['yes'], ['no'], ['no'], ['no'], ['yes'], ['no'], ['no'], ['no'], ['yes'], ['no'], ['no'], ['no'], ['no'], ['no'], ['yes'], ['no'], ['no'], ['no'], ['no'], ['no'], ['no'], ['no'], ['no'], ['no'], ['no'], ['no'], ['no'], ['yes'], ['no'], ['no'], ['yes'], ['no'], ['no'], ['no'], ['no'], ['no'], ['no'], ['no'], ['no'], ['yes'], ['no'], ['no'], ['no'], ['yes'], ['yes'], ['yes'], ['no'], ['no'], ['no'], ['no'], ['no'], ['no'], ['no'], ['no'], ['no'], ['yes'], ['no'], ['no'], ['no'], ['no'], ['no'], ['no'], ['no'], ['no'], ['no'], ['yes'], ['no'], ['no'], ['no'], ['yes'], ['yes'], ['yes'], ['no'], ['no'], ['no'], ['no'], ['no'], ['no'], ['no'], ['no'], ['no'], ['no'], ['yes'], ['yes'], ['yes'], ['no'], ['no'], ['no'], ['no'], ['no'], ['no'], ['no'], ['no'], ['no'], ['no'], ['no'], ['no'], ['yes'], ['no'], ['no'], ['no'], ['no'], ['no'], ['no'], ['no'], ['no'], ['no'], ['no'], ['no'], ['no'], ['no'], ['yes'], ['yes'], ['yes'], ['yes'], ['no'], ['no'], ['no'], ['yes'], ['yes'], ['no'], ['yes'], ['no'], ['no'], ['no'], ['no'], ['no'], ['no'], ['no'], ['no'], ['no'], ['no'], ['no'], ['yes'], ['no'], ['no'], ['no'], ['no'], ['no'], ['no'], ['no'], ['no'], ['no'], ['no'], ['yes'], ['no'], ['yes'], ['no'], ['yes'], ['no'], ['no'], ['no'], ['no'], ['yes'], ['no'], ['no'], ['no'], ['yes'], ['no'], ['no'], ['no'], ['yes'], ['no'], ['no'], ['no'], ['no'], ['no'], ['no'], ['no'], ['no'], ['yes'], ['no'], ['yes'], ['no'], ['no'], ['no'], ['no'], ['no'], ['no'], ['no'], ['no'], ['yes'], ['no'], ['yes'], ['no'], ['no'], ['no'], ['no'], ['yes'], ['yes'], ['no'], ['no'], ['no'], ['no'], ['no'], ['yes'], ['no'], ['no'], ['no'], ['no'], ['no'], ['yes'], ['no'], ['no'], ['no'], ['no'], ['no'], ['no'], ['yes'], ['no'], ['no'], ['no'], ['no'], ['no'], ['no'], ['no'], ['no'], ['yes'], ['no'], ['yes'], ['no'], ['no'], ['no'], ['no'], ['no'], ['no'], ['no'], ['yes'], ['no'], ['yes'], ['no'], ['no'], ['no'], ['yes'], ['yes'], ['no'], ['yes'], ['no'], ['no'], ['no'], ['no'], ['no'], ['no'], ['yes'], ['no'], ['yes'], ['yes'], ['no'], ['no'], ['no'], ['no'], ['no'], ['no'], ['no'], ['yes'], ['no'], ['yes'], ['yes'], ['no'], ['yes'], ['no'], ['no'], ['no'], ['no'], ['no'], ['no'], ['no'], ['no'], ['no'], ['yes'], ['no'], ['yes'], ['no'], ['no'], ['yes'], ['no'], ['no'], ['no'], ['no'], ['no'], ['no'], ['no'], ['no'], ['no'], ['no'], ['no'], ['no'], ['no'], ['no'], ['yes'], ['no'], ['no'], ['no'], ['yes'], ['no'], ['no'], ['no'], ['no'], ['no'], ['no'], ['no'], ['yes'], ['no'], ['no'], ['no'], ['no'], ['no'], ['no'], ['yes'], ['no'], ['no'], ['no'], ['no'], ['yes'], ['no'], ['yes'], ['no'], ['no'], ['no'], ['no'], ['yes'], ['no'], ['no'], ['no'], ['no'], ['no'], ['no'], ['no'], ['no'], ['no'], ['no'], ['no'], ['no'], ['no'], ['no'], ['no'], ['yes'], ['no'], ['no'], ['no'], ['no'], ['no'], ['no'], ['no'], ['yes'], ['no'], ['no'], ['no'], ['no'], ['no'], ['no'], ['yes'], ['yes'], ['no'], ['no'], ['no'], ['no'], ['no'], ['no'], ['yes'], ['no'], ['yes'], ['no'], ['yes'], ['no'], ['no'], ['yes'], ['no'], ['no'], ['no'], ['no'], ['no'], ['no'], ['no'], ['yes'], ['no'], ['no'], ['no'], ['yes'], ['no'], ['no'], ['yes'], ['no'], ['no'], ['no'], ['no'], ['no'], ['no'], ['no'], ['no'], ['no'], ['no'], ['no'], ['no'], ['no'], ['no'], ['no'], ['no'], ['no'], ['no'], ['no'], ['no'], ['no'], ['no'], ['no'], ['no'], ['no'], ['no'], ['no'], ['no'], ['yes'], ['no'], ['no'], ['no'], ['no'], ['no'], ['no'], ['no'], ['yes'], ['yes'], ['yes'], ['no'], ['no'], ['yes'], ['yes'], ['yes'], ['no'], ['no'], ['no'], ['no'], ['no'], ['no'], ['no'], ['no'], ['yes'], ['no'], ['yes'], ['no'], ['no'], ['yes'], ['no'], ['no'], ['no'], ['no'], ['no'], ['no'], ['no'], ['no'], ['no'], ['no'], ['no'], ['no'], ['yes'], ['yes'], ['no'], ['no'], ['no'], ['no'], ['no'], ['no'], ['no'], ['no'], ['no'], ['no'], ['no'], ['yes'], ['no'], ['yes'], ['no'], ['no'], ['no'], ['no'], ['no'], ['no'], ['no']]\n"
          ]
        }
      ],
      "source": [
        "selling_vec=[]\n",
        "j=0;\n",
        "for i in range(5000):\n",
        "    j=random.randint(0,1)\n",
        "    cost=(water_vec[i])+(edu_vec[i])+((HPI_vec[i] - 5)*(-1))+(built_house_vec[i]-2000)+((crime_vec[i]-5)*(-1))\n",
        "    selling_vec.append((cost*10000)+(avg_vec[i]))\n",
        "#print(selling_vec)\n",
        "\n",
        "prediction_vec=[]\n",
        "for i in range(5000):\n",
        "    if(selling_vec[i]<int(avg_vec[i])):\n",
        "        prediction_vec.append([\"yes\"])\n",
        "    else:\n",
        "        prediction_vec.append([\"no\"])\n",
        "\n",
        "print(prediction_vec)\n",
        "\n"
      ]
    },
    {
      "cell_type": "code",
      "execution_count": null,
      "metadata": {
        "id": "PWQs1AFNfXf4"
      },
      "outputs": [],
      "source": [
        "DataSet[\"selling_price\"]=selling_vec\n",
        "DataSet[\"prediction_buy\"]=prediction_vec\n"
      ]
    },
    {
      "cell_type": "code",
      "execution_count": null,
      "metadata": {
        "id": "UXI7wkFPfXf4",
        "outputId": "ca480cd3-41d7-4571-8cb3-177cd6b9f4c9"
      },
      "outputs": [
        {
          "name": "stdout",
          "output_type": "stream",
          "text": [
            "     no_of_rooms  water_source  HPI  Built_house  education  crime_rate  \\\n",
            "0            [7]             1    6         1997          1           9   \n",
            "1            [7]             1    3         1996          1           2   \n",
            "2            [7]             1    6         1993          1           3   \n",
            "3            [5]             0    3         2006          1           4   \n",
            "4            [7]             1    9         2006          1           6   \n",
            "5            [7]             0    8         2006          1           3   \n",
            "6            [7]             1    4         2000          1           1   \n",
            "7            [7]             1    9         2006          1           3   \n",
            "8           [10]             1    6         2003          1           8   \n",
            "9           [10]             1   10         2002          1           4   \n",
            "10           [7]             0    5         2006          1           3   \n",
            "11           [7]             0    3         2006          1           3   \n",
            "12          [10]             1    3         2008          1           9   \n",
            "13           [7]             1    2         2006          1           8   \n",
            "14           [7]             1    3         2006          0           3   \n",
            "15          [10]             1    9         2001          1           3   \n",
            "16           [7]             0    3         2006          1           6   \n",
            "17           [7]             1    1         1990          1           3   \n",
            "18           [7]             1    3         2001          1           5   \n",
            "19           [7]             0    3         1997          1           3   \n",
            "20           [7]             0    6         1994          0           5   \n",
            "21           [7]             1   10         1997          1           3   \n",
            "22           [7]             1    3         1994          1           3   \n",
            "23           [7]             1    3         2009          0           3   \n",
            "24           [7]             1    3         1998          1           3   \n",
            "25           [7]             1    3         1997          1           3   \n",
            "26          [10]             1    6         1999          1           3   \n",
            "27           [5]             1    3         2004          0           3   \n",
            "28           [5]             1    7         2006          1           7   \n",
            "29           [5]             1    3         2001          0           4   \n",
            "...          ...           ...  ...          ...        ...         ...   \n",
            "4970        [10]             1    3         2006          1           3   \n",
            "4971         [7]             0   10         2006          1           3   \n",
            "4972        [10]             1    3         2006          0           9   \n",
            "4973         [5]             1    4         2006          1           3   \n",
            "4974         [7]             1    3         2002          1           3   \n",
            "4975         [7]             1    3         2004          1           3   \n",
            "4976         [7]             0    2         2006          1           3   \n",
            "4977         [5]             0    3         2000          1          10   \n",
            "4978         [5]             1    3         1990          0           5   \n",
            "4979         [5]             1    3         2001          1           8   \n",
            "4980         [7]             0    3         2006          1           3   \n",
            "4981        [10]             1    3         2006          0           3   \n",
            "4982         [7]             1    3         2006          1           3   \n",
            "4983         [7]             1    3         1995          1           3   \n",
            "4984         [7]             0    3         2006          1           7   \n",
            "4985        [10]             1    3         2006          0           3   \n",
            "4986         [7]             1    1         2006          0           3   \n",
            "4987         [7]             0    3         1995          1           3   \n",
            "4988        [10]             1    5         2006          1           3   \n",
            "4989         [7]             1    7         2006          1           3   \n",
            "4990         [5]             1    3         1996          1           6   \n",
            "4991         [7]             1    3         2002          1           4   \n",
            "4992         [7]             1    4         1994          1          10   \n",
            "4993         [7]             1    3         1998          1           3   \n",
            "4994         [5]             1    3         2006          1           3   \n",
            "4995         [7]             1    3         2006          0           3   \n",
            "4996        [10]             1    3         2009          1           2   \n",
            "4997         [7]             0    3         2006          1           3   \n",
            "4998         [7]             1    3         2006          1           3   \n",
            "4999         [5]             1    3         2003          1           3   \n",
            "\n",
            "      Middle_class_families       Roads Decision_buy  average_price  \\\n",
            "0                        80  [moderate]        [yes]        1000000   \n",
            "1                        46       [bad]         [no]        1000000   \n",
            "2                        80  [moderate]         [no]         500000   \n",
            "3                        80       [bad]         [no]        2000000   \n",
            "4                        80  [moderate]        [yes]        2000000   \n",
            "5                        80  [moderate]         [no]        1000000   \n",
            "6                        80  [moderate]        [yes]        1000000   \n",
            "7                        80  [moderate]        [yes]        2000000   \n",
            "8                        93  [moderate]        [yes]        2000000   \n",
            "9                        47      [good]        [yes]        2000000   \n",
            "10                       52  [moderate]        [yes]        1000000   \n",
            "11                       22  [moderate]        [yes]         500000   \n",
            "12                       61  [moderate]         [no]        2000000   \n",
            "13                       32  [moderate]        [yes]        1000000   \n",
            "14                       44      [good]        [yes]        1000000   \n",
            "15                        4  [moderate]         [no]        2000000   \n",
            "16                       80  [moderate]        [yes]         500000   \n",
            "17                       28  [moderate]        [yes]        2000000   \n",
            "18                       80  [moderate]         [no]        2000000   \n",
            "19                       38      [good]        [yes]        1000000   \n",
            "20                       13  [moderate]        [yes]         500000   \n",
            "21                       73  [moderate]        [yes]         500000   \n",
            "22                       80  [moderate]        [yes]        1000000   \n",
            "23                       49  [moderate]        [yes]        2000000   \n",
            "24                       80  [moderate]        [yes]        1000000   \n",
            "25                        4  [moderate]         [no]         500000   \n",
            "26                       80      [good]        [yes]        2000000   \n",
            "27                       80  [moderate]        [yes]         500000   \n",
            "28                       80  [moderate]         [no]         500000   \n",
            "29                       80  [moderate]         [no]         500000   \n",
            "...                     ...         ...          ...            ...   \n",
            "4970                     80      [good]        [yes]        2000000   \n",
            "4971                     80  [moderate]        [yes]        1000000   \n",
            "4972                     72  [moderate]        [yes]         500000   \n",
            "4973                     96  [moderate]        [yes]        2000000   \n",
            "4974                     84  [moderate]         [no]         500000   \n",
            "4975                     15  [moderate]         [no]        1000000   \n",
            "4976                     80       [bad]        [yes]        2000000   \n",
            "4977                     80  [moderate]        [yes]         500000   \n",
            "4978                     80       [bad]        [yes]         500000   \n",
            "4979                     19  [moderate]        [yes]         500000   \n",
            "4980                     80  [moderate]         [no]        1000000   \n",
            "4981                     59      [good]         [no]        2000000   \n",
            "4982                     80      [good]        [yes]        2000000   \n",
            "4983                     80       [bad]         [no]        1000000   \n",
            "4984                     80  [moderate]         [no]        2000000   \n",
            "4985                     80  [moderate]        [yes]        2000000   \n",
            "4986                     80  [moderate]        [yes]         500000   \n",
            "4987                     94  [moderate]         [no]        1000000   \n",
            "4988                     52  [moderate]         [no]        2000000   \n",
            "4989                     28  [moderate]        [yes]        1000000   \n",
            "4990                     80      [good]        [yes]         500000   \n",
            "4991                     80  [moderate]        [yes]        1000000   \n",
            "4992                     80  [moderate]        [yes]        1000000   \n",
            "4993                      7  [moderate]        [yes]         500000   \n",
            "4994                     26  [moderate]        [yes]         500000   \n",
            "4995                     52      [good]        [yes]        1000000   \n",
            "4996                     41  [moderate]        [yes]        2000000   \n",
            "4997                     80  [moderate]         [no]        1000000   \n",
            "4998                     56       [bad]        [yes]        1000000   \n",
            "4999                     80  [moderate]        [yes]         500000   \n",
            "\n",
            "      selling_price prediction_buy  \n",
            "0            940000          [yes]  \n",
            "1           1030000           [no]  \n",
            "2            460000          [yes]  \n",
            "3           2100000           [no]  \n",
            "4           2030000           [no]  \n",
            "5           1060000           [no]  \n",
            "6           1070000           [no]  \n",
            "7           2060000           [no]  \n",
            "8           2010000           [no]  \n",
            "9           2000000           [no]  \n",
            "10          1090000           [no]  \n",
            "11           610000           [no]  \n",
            "12          2080000           [no]  \n",
            "13          1080000           [no]  \n",
            "14          1110000           [no]  \n",
            "15          2010000           [no]  \n",
            "16           580000           [no]  \n",
            "17          1980000          [yes]  \n",
            "18          2050000           [no]  \n",
            "19          1020000           [no]  \n",
            "20           430000          [yes]  \n",
            "21           460000          [yes]  \n",
            "22          1000000           [no]  \n",
            "23          2140000           [no]  \n",
            "24          1040000           [no]  \n",
            "25           530000           [no]  \n",
            "26          2020000           [no]  \n",
            "27           590000           [no]  \n",
            "28           540000           [no]  \n",
            "29           550000           [no]  \n",
            "...             ...            ...  \n",
            "4970        2120000           [no]  \n",
            "4971        1040000           [no]  \n",
            "4972         550000           [no]  \n",
            "4973        2110000           [no]  \n",
            "4974         580000           [no]  \n",
            "4975        1100000           [no]  \n",
            "4976        2120000           [no]  \n",
            "4977         480000          [yes]  \n",
            "4978         430000          [yes]  \n",
            "4979         520000           [no]  \n",
            "4980        1110000           [no]  \n",
            "4981        2110000           [no]  \n",
            "4982        2120000           [no]  \n",
            "4983        1010000           [no]  \n",
            "4984        2070000           [no]  \n",
            "4985        2110000           [no]  \n",
            "4986         630000           [no]  \n",
            "4987        1000000           [no]  \n",
            "4988        2100000           [no]  \n",
            "4989        1080000           [no]  \n",
            "4990         490000          [yes]  \n",
            "4991        1070000           [no]  \n",
            "4992         920000          [yes]  \n",
            "4993         540000           [no]  \n",
            "4994         620000           [no]  \n",
            "4995        1110000           [no]  \n",
            "4996        2160000           [no]  \n",
            "4997        1110000           [no]  \n",
            "4998        1120000           [no]  \n",
            "4999         590000           [no]  \n",
            "\n",
            "[5000 rows x 12 columns]\n"
          ]
        }
      ],
      "source": [
        "print(DataSet)"
      ]
    },
    {
      "cell_type": "code",
      "execution_count": null,
      "metadata": {
        "id": "whTOWKZQfXf4",
        "outputId": "0ca16ef9-0e05-4fc0-8954-55dc142dec25"
      },
      "outputs": [
        {
          "name": "stdout",
          "output_type": "stream",
          "text": [
            "34.660000000000004\n"
          ]
        }
      ],
      "source": [
        "j=0\n",
        "for i in range(5000):\n",
        "    if(decision_vec[i][0]==prediction_vec[i][0]):\n",
        "        j=j+1\n",
        "\n",
        "accuracy=j/5000\n",
        "print(accuracy*100)"
      ]
    },
    {
      "cell_type": "code",
      "execution_count": null,
      "metadata": {
        "id": "2aKgleM7fXf5"
      },
      "outputs": [],
      "source": []
    }
  ],
  "metadata": {
    "kernelspec": {
      "display_name": "Python 3",
      "language": "python",
      "name": "python3"
    },
    "language_info": {
      "codemirror_mode": {
        "name": "ipython",
        "version": 3
      },
      "file_extension": ".py",
      "mimetype": "text/x-python",
      "name": "python",
      "nbconvert_exporter": "python",
      "pygments_lexer": "ipython3",
      "version": "3.7.1"
    },
    "colab": {
      "provenance": [],
      "include_colab_link": true
    }
  },
  "nbformat": 4,
  "nbformat_minor": 0
}